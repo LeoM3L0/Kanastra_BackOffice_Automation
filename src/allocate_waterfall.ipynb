{
 "cells": [
  {
   "cell_type": "markdown",
   "id": "97933961",
   "metadata": {},
   "source": [
    "#### Aloca fluxo de caixa entre Tranche Sênior e Subordinada.  \n",
    "  \n",
    "####    Parâmetros:  \n",
    "#####    -----------  \n",
    "#####    cashflow_real : pd.DataFrame  \n",
    "#####    DataFrame com colunas ['month', 'fluxo_real']  \n",
    "#####    senior_perc : float  \n",
    "#####    Percentual do fluxo destinado à Tranche Sênior  \n",
    "  \n",
    "####    Retorno:  \n",
    "#####    --------  \n",
    "#####    pd.DataFrame com colunas:  \n",
    "#####    ['month', 'cash_in', 'senior_paid', 'subordinated_paid',   \n",
    "#####     'senior_outstanding', 'sub_outstanding']"
   ]
  },
  {
   "cell_type": "code",
   "execution_count": 8,
   "id": "d21ac9ae",
   "metadata": {},
   "outputs": [
    {
     "name": "stdout",
     "output_type": "stream",
     "text": [
      "✅ CSVs encontrados. Carregando...\n",
      "Saldo Total: 380375223.97338593\n",
      "Taxa Inadimplência: 0.1787\n",
      "Retorno Esperado (IRR mensal): nan\n",
      "\n",
      "Fluxo Caixa Agregado:\n",
      "    month  fluxo_aggregado\n",
      "0      1     1.280811e+07\n",
      "1      2     1.275159e+07\n",
      "2      3     1.270145e+07\n",
      "3      4     1.264862e+07\n",
      "4      5     1.257817e+07\n",
      "\n",
      "Fluxo Caixa Real:\n",
      "    month    fluxo_real\n",
      "0      1  1.372814e+07\n",
      "1      2  1.363886e+07\n",
      "2      3  1.351314e+07\n",
      "3      4  1.331599e+07\n",
      "4      5  1.361498e+07\n"
     ]
    }
   ],
   "source": [
    "import os\n",
    "import pandas as pd\n",
    "\n",
    "# Importa simulaçao e metricas\n",
    "import import_ipynb\n",
    "from Simulate_Portfolio import simulate_portfolio\n",
    "from Calculate_Metrics import calculate_metrics"
   ]
  },
  {
   "cell_type": "code",
   "execution_count": 9,
   "id": "38fabd45",
   "metadata": {},
   "outputs": [],
   "source": [
    "def allocate_waterfall(cashflow_real: pd.DataFrame, senior_perc: float = 0.8):\n",
    "\n",
    "    waterfall_rows = []\n",
    "    senior_outstanding = 0.0\n",
    "    sub_outstanding = 0.0\n",
    "\n",
    "    for _, row in cashflow_real.iterrows():\n",
    "        month = int(row[\"month\"])\n",
    "        cash_in = float(row[\"fluxo_real\"])\n",
    "\n",
    "        # Alocação do fluxo\n",
    "        senior_due = cash_in * senior_perc\n",
    "        senior_paid = min(cash_in, senior_due)\n",
    "        subordinated_paid = max(0.0, cash_in - senior_paid)\n",
    "\n",
    "        # Atualiza acumulados\n",
    "        senior_outstanding += senior_paid\n",
    "        sub_outstanding += subordinated_paid\n",
    "\n",
    "        waterfall_rows.append({\n",
    "            \"month\": month,\n",
    "            \"cash_in\": cash_in,\n",
    "            \"senior_paid\": senior_paid,\n",
    "            \"subordinated_paid\": subordinated_paid,\n",
    "            \"senior_outstandig\": senior_outstanding,\n",
    "            \"sub_outstanding\": sub_outstanding\n",
    "        })\n",
    "    \n",
    "    return pd.DataFrame(waterfall_rows)"
   ]
  },
  {
   "cell_type": "code",
   "execution_count": 10,
   "id": "25ed36f6",
   "metadata": {},
   "outputs": [
    {
     "name": "stdout",
     "output_type": "stream",
     "text": [
      "✅ CSVs encontrados. Carregando...\n"
     ]
    }
   ],
   "source": [
    "# Garante diretório  \n",
    "os.makedirs(\"data\", exist_ok=True)  \n",
    "  \n",
    "# Caminhos  \n",
    "portfolio_path = \"data/portifolio.csv\"  \n",
    "cashflows_path = \"data/cashflows.csv\"  \n",
    "  \n",
    "# Se não houver dados, roda simulação  \n",
    "if not (os.path.exists(portfolio_path) and os.path.exists(cashflows_path)):  \n",
    "    print(\"⚠️  CSVs não encontrados. Gerando simulação...\")  \n",
    "    df_portfolio, df_cashflows = simulate_portfolio(n_contracts=10_000, seed=42)  \n",
    "    df_portfolio.to_csv(portfolio_path, index=False)  \n",
    "    df_cashflows.to_csv(cashflows_path, index=False)  \n",
    "else:  \n",
    "    print(\"✅ CSVs encontrados. Carregando...\")  \n",
    "    df_portfolio = pd.read_csv(portfolio_path)  \n",
    "    df_cashflows = pd.read_csv(cashflows_path)"
   ]
  },
  {
   "cell_type": "code",
   "execution_count": null,
   "id": "3d30891a",
   "metadata": {},
   "outputs": [],
   "source": [
    "# Calcula Metricas\n",
    "# metrics = calculate_metrics(df_portfolio, df_cashflows)\n",
    "# cashflow_real = metrics[\"fluxo_caixa_real\"]\n",
    "\n",
    "# Executa Waterfall\n",
    "# waterfall_df = allocate_waterfall(cashflow_real, senior_perc=0.8)"
   ]
  },
  {
   "cell_type": "code",
   "execution_count": null,
   "id": "f7b39faf",
   "metadata": {},
   "outputs": [
    {
     "name": "stdout",
     "output_type": "stream",
     "text": [
      ">> Saída do Waterfall:\n",
      "   month       cash_in   senior_paid  subordinated_paid  senior_outstandig  \\\n",
      "0      1  1.372814e+07  1.098251e+07       2.745627e+06       1.098251e+07   \n",
      "1      2  1.363886e+07  1.091109e+07       2.727772e+06       2.189360e+07   \n",
      "2      3  1.351314e+07  1.081051e+07       2.702627e+06       3.270411e+07   \n",
      "3      4  1.331599e+07  1.065279e+07       2.663199e+06       4.335690e+07   \n",
      "4      5  1.361498e+07  1.089199e+07       2.722996e+06       5.424889e+07   \n",
      "\n",
      "   sub_outstanding  \n",
      "0     2.745627e+06  \n",
      "1     5.473399e+06  \n",
      "2     8.176027e+06  \n",
      "3     1.083923e+07  \n",
      "4     1.356222e+07  \n"
     ]
    }
   ],
   "source": [
    "# print(\">> Saída do Waterfall:\")  \n",
    "# print(waterfall_df.head())"
   ]
  },
  {
   "cell_type": "code",
   "execution_count": null,
   "id": "20fea95d",
   "metadata": {},
   "outputs": [],
   "source": []
  }
 ],
 "metadata": {
  "kernelspec": {
   "display_name": "base",
   "language": "python",
   "name": "python3"
  },
  "language_info": {
   "codemirror_mode": {
    "name": "ipython",
    "version": 3
   },
   "file_extension": ".py",
   "mimetype": "text/x-python",
   "name": "python",
   "nbconvert_exporter": "python",
   "pygments_lexer": "ipython3",
   "version": "3.13.5"
  }
 },
 "nbformat": 4,
 "nbformat_minor": 5
}
