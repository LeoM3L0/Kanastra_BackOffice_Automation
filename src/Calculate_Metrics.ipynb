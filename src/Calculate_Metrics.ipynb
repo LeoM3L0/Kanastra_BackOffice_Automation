{
 "cells": [
  {
   "cell_type": "markdown",
   "id": "d9cbf8d3",
   "metadata": {},
   "source": [
    "##### Cálculo de Métricas\n",
    "######  Garante que os CSVs existem (senão roda a simulação automaticamente).\n",
    "######  Carrega os DataFrames.\n",
    "######  Calcula as métricas principais.\n",
    "######  Retorna e imprime o resumo."
   ]
  },
  {
   "cell_type": "code",
   "execution_count": 29,
   "id": "8aee882f",
   "metadata": {},
   "outputs": [],
   "source": [
    "import os\n",
    "import pandas as pd\n",
    "import numpy as np\n",
    "\n",
    "# Importa a Simulação\n",
    "import import_ipynb\n",
    "from Simulate_Portfolio import simulate_portfolio"
   ]
  },
  {
   "cell_type": "code",
   "execution_count": 30,
   "id": "aef1272a",
   "metadata": {},
   "outputs": [],
   "source": [
    "def calculate_metrics(portfolio_df, cashflow_df):\n",
    "    results = {}\n",
    "\n",
    "    # 1. Saldo Total\n",
    "    saldo_total = portfolio_df[\"principal\"].sum()\n",
    "\n",
    "    # 2. Taxa de Inadimplêcia\n",
    "    taxa_inadimplencia = portfolio_df[\"default_month\"].notna().mean()\n",
    "\n",
    "    # 3. Fluxo de Caixa Agregado sem inadimplencia + recovey\n",
    "    fluxo_caixa_aggreg = (\n",
    "        cashflow_df\n",
    "        .groupby(\"month\")[\"scheduled_payment\"]\n",
    "        .sum()\n",
    "        .reset_index(name=\"fluxo_aggregado\")\n",
    "    )\n",
    "\n",
    "    # 4. Fluxo de caixa real (com inadimplência + recovery)  \n",
    "    cashflow_df[\"fluxo_real\"] = cashflow_df[\"scheduled_payment\"] + cashflow_df[\"recovery_cashflow\"]  \n",
    "    fluxo_caixa_real = (  \n",
    "        cashflow_df  \n",
    "        .groupby(\"month\")[\"fluxo_real\"]  \n",
    "        .sum()  \n",
    "        .reset_index()  \n",
    "    )\n",
    "\n",
    "    # 5. Retorno esperado via IRR\n",
    "    fluxos = [-saldo_total] + fluxo_caixa_real[\"fluxo_real\"].tolist()\n",
    "    try:\n",
    "        retorno_esperado_IRR = np.irr(fluxos)\n",
    "    except Exception:\n",
    "        retorno_esperado_IRR = np.nan\n",
    "\n",
    "    results.update({\n",
    "        \"saldo_total\": saldo_total,\n",
    "        \"taxa_inadimplencia\": taxa_inadimplencia,\n",
    "        \"fluxo_caixa_aggreg\": fluxo_caixa_aggreg,\n",
    "        \"fluxo_caixa_real\": fluxo_caixa_real,\n",
    "        \"retorno_esperado_IRR\": retorno_esperado_IRR\n",
    "    })\n",
    "\n",
    "    return results"
   ]
  },
  {
   "cell_type": "code",
   "execution_count": 31,
   "id": "90f7a97a",
   "metadata": {},
   "outputs": [
    {
     "name": "stdout",
     "output_type": "stream",
     "text": [
      "✅ CSVs encontrados. Carregando...\n"
     ]
    }
   ],
   "source": [
    "# Garante que a pasta exista  \n",
    "os.makedirs(\"data\", exist_ok=True)  \n",
    "  \n",
    "# Caminhos  \n",
    "portfolio_path = \"data/portifolio.csv\"  \n",
    "cashflows_path = \"data/cashflows.csv\"  \n",
    "  \n",
    "# Se não houver CSV, gera a simulação  \n",
    "if not (os.path.exists(portfolio_path) and os.path.exists(cashflows_path)):  \n",
    "    print(\"⚠️  CSVs não encontrados. Gerando simulação...\")  \n",
    "    df_portfolio, df_cashflows = simulate_portfolio(n_contracts=10_000, seed=42)  \n",
    "    df_portfolio.to_csv(portfolio_path, index=False)  \n",
    "    df_cashflows.to_csv(cashflows_path, index=False)  \n",
    "else:  \n",
    "    print(\"✅ CSVs encontrados. Carregando...\")  \n",
    "    df_portfolio = pd.read_csv(portfolio_path)  \n",
    "    df_cashflows = pd.read_csv(cashflows_path)"
   ]
  },
  {
   "cell_type": "code",
   "execution_count": 32,
   "id": "f0b72a73",
   "metadata": {},
   "outputs": [
    {
     "name": "stdout",
     "output_type": "stream",
     "text": [
      "Saldo Total: 380375223.97338593\n",
      "Taxa Inadimplência: 0.1787\n",
      "Retorno Esperado (IRR mensal): nan\n",
      "\n",
      "Fluxo Caixa Agregado:\n",
      "    month  fluxo_aggregado\n",
      "0      1     1.280811e+07\n",
      "1      2     1.275159e+07\n",
      "2      3     1.270145e+07\n",
      "3      4     1.264862e+07\n",
      "4      5     1.257817e+07\n",
      "\n",
      "Fluxo Caixa Real:\n",
      "    month    fluxo_real\n",
      "0      1  1.372814e+07\n",
      "1      2  1.363886e+07\n",
      "2      3  1.351314e+07\n",
      "3      4  1.331599e+07\n",
      "4      5  1.361498e+07\n"
     ]
    }
   ],
   "source": [
    "# Calcula métricas  \n",
    "metrics = calculate_metrics(df_portfolio, df_cashflows)  \n",
    "  \n",
    "# Prints  \n",
    "print(\"Saldo Total:\", metrics[\"saldo_total\"])  \n",
    "print(\"Taxa Inadimplência:\", metrics[\"taxa_inadimplencia\"])  \n",
    "print(\"Retorno Esperado (IRR mensal):\", metrics[\"retorno_esperado_IRR\"])  \n",
    "print(\"\\nFluxo Caixa Agregado:\\n\", metrics[\"fluxo_caixa_aggreg\"].head())  \n",
    "print(\"\\nFluxo Caixa Real:\\n\", metrics[\"fluxo_caixa_real\"].head())"
   ]
  }
 ],
 "metadata": {
  "kernelspec": {
   "display_name": "base",
   "language": "python",
   "name": "python3"
  },
  "language_info": {
   "codemirror_mode": {
    "name": "ipython",
    "version": 3
   },
   "file_extension": ".py",
   "mimetype": "text/x-python",
   "name": "python",
   "nbconvert_exporter": "python",
   "pygments_lexer": "ipython3",
   "version": "3.13.5"
  }
 },
 "nbformat": 4,
 "nbformat_minor": 5
}
